{
  "nbformat": 4,
  "nbformat_minor": 0,
  "metadata": {
    "colab": {
      "provenance": []
    },
    "kernelspec": {
      "name": "python3",
      "display_name": "Python 3"
    },
    "language_info": {
      "name": "python"
    }
  },
  "cells": [
    {
      "cell_type": "markdown",
      "metadata": {
        "id": "hfPJrXDVab8V"
      },
      "source": [
        "# Перше знайомство з Python REPL"
      ]
    },
    {
      "cell_type": "markdown",
      "metadata": {
        "id": "omeNy4OFdD_h"
      },
      "source": [
        "У ході виконання цієї вправи ви будете використовувати REPL для оголошення змінних і виконання інструкцій."
      ]
    },
    {
      "cell_type": "markdown",
      "metadata": {
        "id": "RpUbBMA_frWR"
      },
      "source": [
        "## Виконання першого оператора Python\n",
        "Python підтримує інтерактивну консоль, в якій можна вводити команди і негайно бачити результат\n",
        "\n",
        "1. Запустіть на виконання наступну комірку з кодом аби потрапити в інтрепретатор Python, який працює в інтерактивному режимі (на локальній машині для цього треба ввести в консолі команду ```python``` )"
      ]
    },
    {
      "cell_type": "code",
      "metadata": {
        "id": "ei0oXo6dbriS",
        "colab": {
          "base_uri": "https://localhost:8080/",
          "height": 505
        },
        "outputId": "9ae26bce-2ee8-4807-f082-689e8c59816d"
      },
      "source": [
        "import IPython\n",
        "url = 'https://www.pythonanywhere.com/embedded3/'\n",
        "iframe = '<iframe src=' + url + ' width=95% height=480></iframe>'\n",
        "IPython.display.HTML(iframe)"
      ],
      "execution_count": null,
      "outputs": [
        {
          "output_type": "execute_result",
          "data": {
            "text/plain": [
              "<IPython.core.display.HTML object>"
            ],
            "text/html": [
              "<iframe src=https://www.pythonanywhere.com/embedded3/ width=95% height=480></iframe>"
            ]
          },
          "metadata": {},
          "execution_count": 2
        }
      ]
    },
    {
      "cell_type": "markdown",
      "metadata": {
        "id": "FcSrGdE0gkQp"
      },
      "source": [
        "2. Введіть в консолі, яка відкрилась, такий оператор:\n",
        "``` java\n",
        "print(\"Hello, world!\")\n",
        "```\n",
        "Ви маєте побачити вітання і запит нової команди."
      ]
    },
    {
      "cell_type": "code",
      "source": [
        "print(\"Hello, world!\")"
      ],
      "metadata": {
        "id": "jEhOqfS47_Yv",
        "outputId": "2443b421-e8ea-4205-c20a-4cb48df969b4",
        "colab": {
          "base_uri": "https://localhost:8080/"
        }
      },
      "execution_count": null,
      "outputs": [
        {
          "output_type": "stream",
          "name": "stdout",
          "text": [
            "Hello, world!\n"
          ]
        }
      ]
    },
    {
      "cell_type": "markdown",
      "metadata": {
        "id": "sojYseo1hQZz"
      },
      "source": [
        "3. Отримайте довідку про оператор print, ввівши в консолі наступне:\n",
        "``` java\n",
        "help(print)\n",
        "```\n",
        "Аби вийти з цього режиму натисніть ``` q```"
      ]
    },
    {
      "cell_type": "code",
      "source": [
        "help(print)\n",
        "q\n"
      ],
      "metadata": {
        "id": "juKqPduv8J8O",
        "outputId": "2d9f8f83-1259-4526-8814-eb68288fb17e",
        "colab": {
          "base_uri": "https://localhost:8080/",
          "height": 367
        }
      },
      "execution_count": null,
      "outputs": [
        {
          "output_type": "stream",
          "name": "stdout",
          "text": [
            "Help on built-in function print in module builtins:\n",
            "\n",
            "print(...)\n",
            "    print(value, ..., sep=' ', end='\\n', file=sys.stdout, flush=False)\n",
            "    \n",
            "    Prints the values to a stream, or to sys.stdout by default.\n",
            "    Optional keyword arguments:\n",
            "    file:  a file-like object (stream); defaults to the current sys.stdout.\n",
            "    sep:   string inserted between values, default a space.\n",
            "    end:   string appended after the last value, default a newline.\n",
            "    flush: whether to forcibly flush the stream.\n",
            "\n"
          ]
        },
        {
          "output_type": "error",
          "ename": "NameError",
          "evalue": "name 'q' is not defined",
          "traceback": [
            "\u001b[0;31m---------------------------------------------------------------------------\u001b[0m",
            "\u001b[0;31mNameError\u001b[0m                                 Traceback (most recent call last)",
            "\u001b[0;32m<ipython-input-7-8f2ea58bc39a>\u001b[0m in \u001b[0;36m<cell line: 2>\u001b[0;34m()\u001b[0m\n\u001b[1;32m      1\u001b[0m \u001b[0mhelp\u001b[0m\u001b[0;34m(\u001b[0m\u001b[0mprint\u001b[0m\u001b[0;34m)\u001b[0m\u001b[0;34m\u001b[0m\u001b[0;34m\u001b[0m\u001b[0m\n\u001b[0;32m----> 2\u001b[0;31m \u001b[0mq\u001b[0m\u001b[0;34m\u001b[0m\u001b[0;34m\u001b[0m\u001b[0m\n\u001b[0m",
            "\u001b[0;31mNameError\u001b[0m: name 'q' is not defined"
          ]
        }
      ]
    },
    {
      "cell_type": "markdown",
      "metadata": {
        "id": "P8JizwUMkl-E"
      },
      "source": [
        "## Оголошення та виведення значень змінних"
      ]
    },
    {
      "cell_type": "markdown",
      "metadata": {
        "id": "VF_wTDdEkuNb"
      },
      "source": [
        "1. Введіть наведений нижче код аби оголосити змінну:\n",
        "``` java\n",
        "PI = 3.14\n",
        "```\n",
        "2. Введіть ім'я змінної аби вивести її значення:\n",
        "``` java\n",
        "PI\n",
        "```\n",
        "3. Виведіть значення \"красиво\", скориставшись оператором print:\n",
        "``` java\n",
        "print(\"PI =\",PI)\n",
        "```"
      ]
    },
    {
      "cell_type": "code",
      "source": [
        "PI = 3.14\n",
        "PI\n",
        "print(\"PI =\",PI)"
      ],
      "metadata": {
        "id": "0y1vVz4j8gfo",
        "outputId": "e6c9663e-f5c2-4e5b-c3ad-1c36ef6da9ca",
        "colab": {
          "base_uri": "https://localhost:8080/"
        }
      },
      "execution_count": null,
      "outputs": [
        {
          "output_type": "stream",
          "name": "stdout",
          "text": [
            "PI = 3.14\n"
          ]
        }
      ]
    },
    {
      "cell_type": "markdown",
      "metadata": {
        "id": "f5qiF2Lu_66K"
      },
      "source": [
        "До речі, спробуйте ввести\n",
        "```python\n",
        "help(print)\n",
        "```\n",
        "і код з попереднього завдання в наступній комірці - він також спрацює!"
      ]
    },
    {
      "cell_type": "code",
      "metadata": {
        "id": "5th2Vjdu_10w",
        "outputId": "099ed066-0be5-4aa9-bd07-27ecf531cde1",
        "colab": {
          "base_uri": "https://localhost:8080/"
        }
      },
      "source": [
        "help(print)\n",
        "PI = 3.14\n",
        "PI\n",
        "print(\"PI =\",PI)"
      ],
      "execution_count": null,
      "outputs": [
        {
          "output_type": "stream",
          "name": "stdout",
          "text": [
            "Help on built-in function print in module builtins:\n",
            "\n",
            "print(...)\n",
            "    print(value, ..., sep=' ', end='\\n', file=sys.stdout, flush=False)\n",
            "    \n",
            "    Prints the values to a stream, or to sys.stdout by default.\n",
            "    Optional keyword arguments:\n",
            "    file:  a file-like object (stream); defaults to the current sys.stdout.\n",
            "    sep:   string inserted between values, default a space.\n",
            "    end:   string appended after the last value, default a newline.\n",
            "    flush: whether to forcibly flush the stream.\n",
            "\n",
            "PI = 3.14\n"
          ]
        }
      ]
    },
    {
      "cell_type": "markdown",
      "metadata": {
        "id": "rTlYzOyjkmOM"
      },
      "source": [
        "Нагадую, що цю вправу ви також можете виконати на [Microsoft Learn](https://docs.microsoft.com/ru-ru/learn/modules/intro-to-python/5-exercise-output?source=learn)."
      ]
    }
  ]
}