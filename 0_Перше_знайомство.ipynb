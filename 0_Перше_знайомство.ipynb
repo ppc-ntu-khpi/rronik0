{
  "nbformat": 4,
  "nbformat_minor": 0,
  "metadata": {
    "colab": {
      "name": "0. Перше знайомство",
      "provenance": []
    },
    "kernelspec": {
      "name": "python3",
      "display_name": "Python 3"
    },
    "language_info": {
      "name": "python"
    }
  },
  "cells": [
    {
      "cell_type": "markdown",
      "metadata": {
        "id": "hfPJrXDVab8V"
      },
      "source": [
        "# Перше знайомство з Python REPL"
      ]
    },
    {
      "cell_type": "markdown",
      "metadata": {
        "id": "omeNy4OFdD_h"
      },
      "source": [
        "У ході виконання цієї вправи ви будете використовувати REPL для оголошення змінних і виконання інструкцій."
      ]
    },
    {
      "cell_type": "markdown",
      "metadata": {
        "id": "RpUbBMA_frWR"
      },
      "source": [
        "## Виконання першого оператора Python\n",
        "Python підтримує інтерактивну консоль, в якій можна вводити команди і негайно бачити результат\n",
        "\n",
        "1. Запустіть на виконання наступну комірку з кодом аби потрапити в інтрепретатор Python, який працює в інтерактивному режимі (на локальній машині для цього треба ввести в консолі команду ```python``` )"
      ]
    },
    {
      "cell_type": "code",
      "metadata": {
        "id": "ei0oXo6dbriS",
        "colab": {
          "base_uri": "https://localhost:8080/",
          "height": 539
        },
        "outputId": "0f13f81d-6fa3-4343-8eea-554cfe4a978f"
      },
      "source": [
        "import IPython\n",
        "url = 'https://www.pythonanywhere.com/embedded3/'\n",
        "iframe = '<iframe src=' + url + ' width=95% height=480></iframe>'\n",
        "IPython.display.HTML(iframe)"
      ],
      "execution_count": 5,
      "outputs": [
        {
          "output_type": "stream",
          "name": "stderr",
          "text": [
            "/usr/local/lib/python3.10/dist-packages/IPython/core/display.py:724: UserWarning: Consider using IPython.display.IFrame instead\n",
            "  warnings.warn(\"Consider using IPython.display.IFrame instead\")\n"
          ]
        },
        {
          "output_type": "execute_result",
          "data": {
            "text/plain": [
              "<IPython.core.display.HTML object>"
            ],
            "text/html": [
              "<iframe src=https://www.pythonanywhere.com/embedded3/ width=95% height=480></iframe>"
            ]
          },
          "metadata": {},
          "execution_count": 5
        }
      ]
    },
    {
      "cell_type": "markdown",
      "metadata": {
        "id": "FcSrGdE0gkQp"
      },
      "source": [
        "2. Введіть в консолі, яка відкрилась, такий оператор:\n",
        "``` java\n",
        "print(\"Hello, world!\")\n",
        "```\n",
        "Ви маєте побачити вітання і запит нової команди."
      ]
    },
    {
      "cell_type": "code",
      "source": [
        "print(\"Hello, world!\")"
      ],
      "metadata": {
        "id": "faqMi6YHggxl",
        "outputId": "d59d6d4a-ea14-479e-f636-93bf00c8a321",
        "colab": {
          "base_uri": "https://localhost:8080/"
        }
      },
      "execution_count": 1,
      "outputs": [
        {
          "output_type": "stream",
          "name": "stdout",
          "text": [
            "Hello, world!\n"
          ]
        }
      ]
    },
    {
      "cell_type": "markdown",
      "metadata": {
        "id": "sojYseo1hQZz"
      },
      "source": [
        "3. Отримайте довідку про оператор print, ввівши в консолі наступне:\n",
        "``` java\n",
        "help(print)\n",
        "```\n",
        "Аби вийти з цього режиму натисніть ``` q```"
      ]
    },
    {
      "cell_type": "code",
      "source": [
        "help(print)"
      ],
      "metadata": {
        "id": "x8akaKWMiMv7",
        "outputId": "a4e9b581-e0f3-43bb-8d87-34d53dc9bb53",
        "colab": {
          "base_uri": "https://localhost:8080/"
        }
      },
      "execution_count": 2,
      "outputs": [
        {
          "output_type": "stream",
          "name": "stdout",
          "text": [
            "Help on built-in function print in module builtins:\n",
            "\n",
            "print(...)\n",
            "    print(value, ..., sep=' ', end='\\n', file=sys.stdout, flush=False)\n",
            "    \n",
            "    Prints the values to a stream, or to sys.stdout by default.\n",
            "    Optional keyword arguments:\n",
            "    file:  a file-like object (stream); defaults to the current sys.stdout.\n",
            "    sep:   string inserted between values, default a space.\n",
            "    end:   string appended after the last value, default a newline.\n",
            "    flush: whether to forcibly flush the stream.\n",
            "\n"
          ]
        }
      ]
    },
    {
      "cell_type": "markdown",
      "metadata": {
        "id": "P8JizwUMkl-E"
      },
      "source": [
        "## Оголошення та виведення значень змінних"
      ]
    },
    {
      "cell_type": "markdown",
      "metadata": {
        "id": "VF_wTDdEkuNb"
      },
      "source": [
        "1. Введіть наведений нижче код аби оголосити змінну:\n",
        "``` java\n",
        "PI = 3.14\n",
        "```\n",
        "2. Введіть ім'я змінної аби вивести її значення:\n",
        "``` java\n",
        "PI\n",
        "```\n",
        "3. Виведіть значення \"красиво\", скориставшись оператором print:\n",
        "``` java\n",
        "print(\"PI =\",PI)\n",
        "```"
      ]
    },
    {
      "cell_type": "markdown",
      "metadata": {
        "id": "f5qiF2Lu_66K"
      },
      "source": [
        "До речі, спробуйте ввести\n",
        "```python\n",
        "help(print)\n",
        "```\n",
        "і код з попереднього завдання в наступній комірці - він також спрацює!"
      ]
    },
    {
      "cell_type": "code",
      "metadata": {
        "id": "5th2Vjdu_10w",
        "outputId": "da9a9306-94e5-49c6-b65e-28a63ad2aa07",
        "colab": {
          "base_uri": "https://localhost:8080/"
        }
      },
      "source": [
        "PI = 3.14\n",
        "PI\n",
        "print(\"PI =\",PI)"
      ],
      "execution_count": 4,
      "outputs": [
        {
          "output_type": "stream",
          "name": "stdout",
          "text": [
            "PI = 3.14\n"
          ]
        }
      ]
    },
    {
      "cell_type": "markdown",
      "metadata": {
        "id": "rTlYzOyjkmOM"
      },
      "source": [
        "Нагадую, що цю вправу ви також можете виконати на [Microsoft Learn](https://docs.microsoft.com/ru-ru/learn/modules/intro-to-python/5-exercise-output?source=learn)."
      ]
    }
  ]
}